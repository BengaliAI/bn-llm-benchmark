{
 "cells": [
  {
   "cell_type": "code",
   "execution_count": 9,
   "id": "0c8fdacf",
   "metadata": {},
   "outputs": [],
   "source": [
    "import pandas as pd\n",
    "import numpy as np\n",
    "import os\n",
    "\n",
    "import json"
   ]
  },
  {
   "cell_type": "code",
   "execution_count": 41,
   "id": "ba33a438",
   "metadata": {},
   "outputs": [
    {
     "name": "stdout",
     "output_type": "stream",
     "text": [
      "IDs only in original: {21891, 48646, 25724, 41106, 1299, 38551, 44569, 39833, 26266, 39069, 6047, 28708, 15400, 42542, 24373, 43702, 47799, 24248, 27065, 36026, 48195, 12616, 13001, 5328, 83, 37843, 11988, 215, 344, 26970, 2011, 37472, 11360, 24803, 49638, 26344, 4980, 32247, 22778, 23548, 21502}\n",
      "41\n",
      "IDs only in translated: set()\n"
     ]
    }
   ],
   "source": [
    "import pandas as pd\n",
    "\n",
    "# Load JSONL files properly\n",
    "df = pd.read_json('hellaswag_test.jsonl', lines=True)\n",
    "ids = df['ind'].values\n",
    "\n",
    "df_trans = pd.read_json('hellaswag_test_translated.jsonl', lines=True)\n",
    "ids_trans = df_trans['ind'].values\n",
    "\n",
    "# Compare IDs\n",
    "set_ids = set(ids)\n",
    "set_ids_trans = set(ids_trans)\n",
    "\n",
    "only_in_original = set_ids - set_ids_trans\n",
    "only_in_translated = set_ids_trans - set_ids\n",
    "\n",
    "# Print results\n",
    "print(\"IDs only in original:\", only_in_original)\n",
    "print(len(only_in_original))\n",
    "print(\"IDs only in translated:\", only_in_translated)\n"
   ]
  },
  {
   "cell_type": "code",
   "execution_count": 37,
   "id": "3e1ad47b",
   "metadata": {},
   "outputs": [
    {
     "name": "stdout",
     "output_type": "stream",
     "text": [
      "Line 6534 is broken: Unterminated string starting at: line 1 column 56 (char 55)\n"
     ]
    }
   ],
   "source": [
    "with open('hellaswag_test_translated.jsonl', 'r', encoding='utf-8') as f:\n",
    "    for i, line in enumerate(f):\n",
    "        try:\n",
    "            json.loads(line)\n",
    "        except json.JSONDecodeError as e:\n",
    "            print(f\"Line {i} is broken: {e}\")\n"
   ]
  },
  {
   "cell_type": "code",
   "execution_count": null,
   "id": "579e3268",
   "metadata": {},
   "outputs": [],
   "source": []
  },
  {
   "cell_type": "code",
   "execution_count": null,
   "id": "20593b37",
   "metadata": {},
   "outputs": [],
   "source": []
  }
 ],
 "metadata": {
  "kernelspec": {
   "display_name": "work",
   "language": "python",
   "name": "python3"
  },
  "language_info": {
   "codemirror_mode": {
    "name": "ipython",
    "version": 3
   },
   "file_extension": ".py",
   "mimetype": "text/x-python",
   "name": "python",
   "nbconvert_exporter": "python",
   "pygments_lexer": "ipython3",
   "version": "3.10.14"
  }
 },
 "nbformat": 4,
 "nbformat_minor": 5
}
