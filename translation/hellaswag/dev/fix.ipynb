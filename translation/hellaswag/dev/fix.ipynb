{
 "cells": [
  {
   "cell_type": "code",
   "execution_count": 2,
   "id": "0c8fdacf",
   "metadata": {},
   "outputs": [],
   "source": [
    "import pandas as pd\n",
    "import numpy as np\n",
    "import os\n",
    "\n",
    "import json"
   ]
  },
  {
   "cell_type": "code",
   "execution_count": 7,
   "id": "ba33a438",
   "metadata": {},
   "outputs": [
    {
     "name": "stdout",
     "output_type": "stream",
     "text": [
      "IDs only in original: set()\n",
      "0\n",
      "IDs only in translated: set()\n"
     ]
    }
   ],
   "source": [
    "import pandas as pd\n",
    "\n",
    "# Load JSONL files properly\n",
    "df = pd.read_json('hellaswag_dev.jsonl', lines=True)\n",
    "ids = df['ind'].values\n",
    "\n",
    "df_trans = pd.read_json('hellaswag_dev_translated.jsonl', lines=True)\n",
    "ids_trans = df_trans['ind'].values\n",
    "\n",
    "# Compare IDs\n",
    "set_ids = set(ids)\n",
    "set_ids_trans = set(ids_trans)\n",
    "\n",
    "only_in_original = set_ids - set_ids_trans\n",
    "only_in_translated = set_ids_trans - set_ids\n",
    "\n",
    "# Print results\n",
    "print(\"IDs only in original:\", only_in_original)\n",
    "print(len(only_in_original))\n",
    "print(\"IDs only in translated:\", only_in_translated)\n"
   ]
  },
  {
   "cell_type": "code",
   "execution_count": null,
   "id": "1deadd83",
   "metadata": {},
   "outputs": [],
   "source": []
  },
  {
   "cell_type": "code",
   "execution_count": 3,
   "id": "3e1ad47b",
   "metadata": {},
   "outputs": [],
   "source": [
    "with open('hellaswag_dev_translated.jsonl', 'r', encoding='utf-8') as f:\n",
    "    for i, line in enumerate(f):\n",
    "        try:\n",
    "            json.loads(line)\n",
    "        except json.JSONDecodeError as e:\n",
    "            print(f\"Line {i} is broken: {e}\")\n"
   ]
  },
  {
   "cell_type": "code",
   "execution_count": null,
   "id": "579e3268",
   "metadata": {},
   "outputs": [],
   "source": []
  },
  {
   "cell_type": "code",
   "execution_count": null,
   "id": "20593b37",
   "metadata": {},
   "outputs": [],
   "source": []
  }
 ],
 "metadata": {
  "kernelspec": {
   "display_name": "work",
   "language": "python",
   "name": "python3"
  },
  "language_info": {
   "codemirror_mode": {
    "name": "ipython",
    "version": 3
   },
   "file_extension": ".py",
   "mimetype": "text/x-python",
   "name": "python",
   "nbconvert_exporter": "python",
   "pygments_lexer": "ipython3",
   "version": "3.10.14"
  }
 },
 "nbformat": 4,
 "nbformat_minor": 5
}
